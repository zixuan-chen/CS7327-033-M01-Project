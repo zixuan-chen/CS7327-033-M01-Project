{
 "cells": [
  {
   "cell_type": "code",
   "execution_count": 21,
   "id": "eaced38f",
   "metadata": {},
   "outputs": [],
   "source": [
    "import sklearn\n",
    "from sklearn.svm import SVC, LinearSVC\n",
    "from sklearn.pipeline import make_pipeline\n",
    "import numpy as np\n",
    "from sklearn.preprocessing import StandardScaler"
   ]
  },
  {
   "cell_type": "code",
   "execution_count": 22,
   "id": "b8bd2916",
   "metadata": {},
   "outputs": [],
   "source": [
    "data = np.load('data_hw2/train_data.npy')\n",
    "label = np.load(\"data_hw2/train_label.npy\")\n",
    "c = np.arange(len(data))\n",
    "np.random.shuffle(c)\n",
    "data, label = data[c], label[c]\n",
    "n = data.shape[0]\n",
    "split = int(0.8*n)\n",
    "train_data = data[:split]\n",
    "train_label = label[:split]\n",
    "val_data = data[split:]\n",
    "val_label = label[split:]\n",
    "test_data = np.load(\"data_hw2/test_data.npy\")\n",
    "test_label = np.load(\"data_hw2/test_label.npy\")"
   ]
  },
  {
   "cell_type": "code",
   "execution_count": 31,
   "id": "f84b103b",
   "metadata": {},
   "outputs": [],
   "source": [
    "dim = 8"
   ]
  },
  {
   "cell_type": "code",
   "execution_count": 38,
   "id": "e285fcbd",
   "metadata": {},
   "outputs": [],
   "source": [
    "class Min_Max_SVM:\n",
    "    def __init__(self):\n",
    "        clf = make_pipeline(StandardScaler(),\n",
    "                            SVC(kernel='linear'))\n",
    "        self.clf = [clf] * dim\n",
    "\n",
    "    def decision_function(self, x):\n",
    "        outputs = np.zeros((dim, len(x)))\n",
    "        for i in range(dim):\n",
    "            outputs[i] = self.clf[i].decision_function(x)\n",
    "        min1 = np.min(outputs[:dim / 2], axis=1)\n",
    "        min2 = np.min(outputs[dim / 2:], axis=1)\n",
    "        max_ = np.max([min1, min2], axis=1)\n",
    "        return max_\n",
    "\n",
    "    def predict(self, x):\n",
    "        return self.decision_function(x) > 0"
   ]
  },
  {
   "cell_type": "code",
   "execution_count": 39,
   "id": "5f7f5ba6",
   "metadata": {},
   "outputs": [],
   "source": [
    "def train_single(net, category, pos_index, neg_index):\n",
    "    # prepare training data\n",
    "    indexs = np.append(pos_index, neg_index)\n",
    "    y = np.zeros(len(indexs))\n",
    "    y[:len(pos_index)] = 1\n",
    "    X = train_data[indexs]\n",
    "    c = np.arange(len(indexs))\n",
    "    np.random.shuffle(c)\n",
    "    X, y = X[c], y[c]\n",
    "    # fit\n",
    "    net.fit(X, y)\n",
    "    # validate\n",
    "    val_label_new = np.where(val_label == category, 1, 0)\n",
    "    acc = net.score(val_data, val_label_new)\n",
    "    print(\"validation accuracy: %f\" % acc)\n",
    "    "
   ]
  },
  {
   "cell_type": "code",
   "execution_count": 40,
   "id": "e024db3b",
   "metadata": {},
   "outputs": [],
   "source": [
    "def train(category, method='random'):\n",
    "    print(\"training %d vs rest...\" % category)\n",
    "    net = Min_Max_SVM()\n",
    "    index_positive = np.argwhere(train_label == category).reshape(-1)\n",
    "    index_negative = np.argwhere(train_label != category).reshape(-1)\n",
    "\n",
    "    # split into 2-class subproblems\n",
    "    n_pos, n_nega = len(index_positive), len(index_negative)\n",
    "    pindx = [index_positive[:n_pos // 2], index_positive[n_pos // 2:]]\n",
    "    if method == 'random':\n",
    "        nindx = [index_negative[: n_nega // 4], index_negative[n_nega // 4: 2 * n_nega // 4],\n",
    "                 index_negative[2 * n_nega // 4: 3 * n_nega // 4], index_negative[3 * n_nega // 4:]]\n",
    "    else:  # with prior knowledge\n",
    "        negacls = [-1, 0, 1]\n",
    "        negacls.remove(category)\n",
    "        index_class0 = np.argwhere(train_label == negacls[0]).reshape(-1)\n",
    "        index_class1 = np.argwhere(train_label == negacls[1]).reshape(-1)\n",
    "        n_nega0, n_nega1 = len(index_class0), len(index_class1)\n",
    "        nindx = [index_class0[: n_nega0 // 2], index_class0[n_nega0 // 2:],\n",
    "                 index_class1[: n_nega1 // 2], index_class1[n_nega1 // 2:]]\n",
    "\n",
    "    for i in range(2):\n",
    "        for j in range(4):\n",
    "            s = i * 4 + j\n",
    "            print(\"training the %dth SVM\" % s)\n",
    "            train_single(net.clf[s], category, pindx[i], nindx[j])\n",
    "\n",
    "    print(\"finish training!\")\n",
    "    return net\n",
    "\n",
    "    "
   ]
  },
  {
   "cell_type": "code",
   "execution_count": 41,
   "id": "c0423f61",
   "metadata": {},
   "outputs": [],
   "source": [
    "method = 'random'"
   ]
  },
  {
   "cell_type": "code",
   "execution_count": null,
   "id": "3c567b90",
   "metadata": {},
   "outputs": [],
   "source": []
  },
  {
   "cell_type": "code",
   "execution_count": 34,
   "id": "2509e23d",
   "metadata": {
    "scrolled": true
   },
   "outputs": [
    {
     "data": {
      "text/plain": [
       "(13588, 310)"
      ]
     },
     "execution_count": 34,
     "metadata": {},
     "output_type": "execute_result"
    }
   ],
   "source": [
    "test_data.shape"
   ]
  }
 ],
 "metadata": {
  "kernelspec": {
   "display_name": "py37",
   "language": "python",
   "name": "py37"
  },
  "language_info": {
   "codemirror_mode": {
    "name": "ipython",
    "version": 3
   },
   "file_extension": ".py",
   "mimetype": "text/x-python",
   "name": "python",
   "nbconvert_exporter": "python",
   "pygments_lexer": "ipython3",
   "version": "3.7.10"
  }
 },
 "nbformat": 4,
 "nbformat_minor": 5
}
